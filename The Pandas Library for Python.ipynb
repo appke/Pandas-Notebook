{
 "cells": [
  {
   "cell_type": "code",
   "execution_count": 1,
   "metadata": {},
   "outputs": [],
   "source": [
    "import numpy as np\n",
    "import pandas as pd\n",
    "import matplotlib.pyplot as plt"
   ]
  },
  {
   "cell_type": "code",
   "execution_count": 3,
   "metadata": {},
   "outputs": [
    {
     "name": "stdout",
     "output_type": "stream",
     "text": [
      "  % Total    % Received % Xferd  Average Speed   Time    Time     Time  Current\n",
      "                                 Dload  Upload   Total   Spent    Left  Speed\n",
      "100  629k  100  629k    0     0   245k      0  0:00:02  0:00:02 --:--:--  245k\n"
     ]
    }
   ],
   "source": [
    "!curl -O https://www.dhs.gov/sites/default/files/publications/claims-2014.xls"
   ]
  },
  {
   "cell_type": "code",
   "execution_count": 4,
   "metadata": {},
   "outputs": [],
   "source": [
    "df = pd.read_excel('claims-2014.xls', index_col='Claim Number')"
   ]
  },
  {
   "cell_type": "code",
   "execution_count": 7,
   "metadata": {},
   "outputs": [
    {
     "data": {
      "text/html": [
       "<div>\n",
       "<style scoped>\n",
       "    .dataframe tbody tr th:only-of-type {\n",
       "        vertical-align: middle;\n",
       "    }\n",
       "\n",
       "    .dataframe tbody tr th {\n",
       "        vertical-align: top;\n",
       "    }\n",
       "\n",
       "    .dataframe thead th {\n",
       "        text-align: right;\n",
       "    }\n",
       "</style>\n",
       "<table border=\"1\" class=\"dataframe\">\n",
       "  <thead>\n",
       "    <tr style=\"text-align: right;\">\n",
       "      <th></th>\n",
       "      <th>Date Received</th>\n",
       "      <th>Incident Date</th>\n",
       "      <th>Airport Code</th>\n",
       "      <th>Airport Name</th>\n",
       "      <th>Airline Name</th>\n",
       "      <th>Claim Type</th>\n",
       "      <th>Claim Site</th>\n",
       "      <th>Item Category</th>\n",
       "      <th>Close Amount</th>\n",
       "      <th>Disposition</th>\n",
       "    </tr>\n",
       "    <tr>\n",
       "      <th>Claim Number</th>\n",
       "      <th></th>\n",
       "      <th></th>\n",
       "      <th></th>\n",
       "      <th></th>\n",
       "      <th></th>\n",
       "      <th></th>\n",
       "      <th></th>\n",
       "      <th></th>\n",
       "      <th></th>\n",
       "      <th></th>\n",
       "    </tr>\n",
       "  </thead>\n",
       "  <tbody>\n",
       "    <tr>\n",
       "      <td>2013081805991</td>\n",
       "      <td>2014-01-13</td>\n",
       "      <td>2012-12-21 00:00:00</td>\n",
       "      <td>HPN</td>\n",
       "      <td>Westchester County, White Plains</td>\n",
       "      <td>USAir</td>\n",
       "      <td>Personal Injury</td>\n",
       "      <td>Checked Baggage</td>\n",
       "      <td>Audio/Video; Jewelry &amp; Watches</td>\n",
       "      <td>0</td>\n",
       "      <td>Deny</td>\n",
       "    </tr>\n",
       "    <tr>\n",
       "      <td>2014080215586</td>\n",
       "      <td>2014-07-17</td>\n",
       "      <td>2014-06-30 18:38:00</td>\n",
       "      <td>MCO</td>\n",
       "      <td>Orlando International Airport</td>\n",
       "      <td>Delta Air Lines</td>\n",
       "      <td>Property Damage</td>\n",
       "      <td>Checked Baggage</td>\n",
       "      <td>-</td>\n",
       "      <td>0</td>\n",
       "      <td>Deny</td>\n",
       "    </tr>\n",
       "    <tr>\n",
       "      <td>2014010710583</td>\n",
       "      <td>2014-01-07</td>\n",
       "      <td>2013-12-27 22:00:00</td>\n",
       "      <td>SJU</td>\n",
       "      <td>Luis Munoz Marin International</td>\n",
       "      <td>Jet Blue</td>\n",
       "      <td>Property Damage</td>\n",
       "      <td>Checked Baggage</td>\n",
       "      <td>Food &amp; Drink</td>\n",
       "      <td>50</td>\n",
       "      <td>Approve in Full</td>\n",
       "    </tr>\n",
       "    <tr>\n",
       "      <td>2014010910683</td>\n",
       "      <td>2014-01-07</td>\n",
       "      <td>2014-01-02 00:00:00</td>\n",
       "      <td>IAD</td>\n",
       "      <td>Washington Dulles International</td>\n",
       "      <td>UAL</td>\n",
       "      <td>Property Damage</td>\n",
       "      <td>Checked Baggage</td>\n",
       "      <td>Baggage/Cases/Purses</td>\n",
       "      <td>0</td>\n",
       "      <td>Deny</td>\n",
       "    </tr>\n",
       "    <tr>\n",
       "      <td>2014011310783</td>\n",
       "      <td>2014-01-09</td>\n",
       "      <td>2014-01-07 00:00:00</td>\n",
       "      <td>SAT</td>\n",
       "      <td>San Antonio International</td>\n",
       "      <td>Southwest Airlines</td>\n",
       "      <td>Property Damage</td>\n",
       "      <td>Checked Baggage</td>\n",
       "      <td>Computer &amp; Accessories</td>\n",
       "      <td>0</td>\n",
       "      <td>Deny</td>\n",
       "    </tr>\n",
       "  </tbody>\n",
       "</table>\n",
       "</div>"
      ],
      "text/plain": [
       "              Date Received       Incident Date Airport Code  \\\n",
       "Claim Number                                                   \n",
       "2013081805991    2014-01-13 2012-12-21 00:00:00          HPN   \n",
       "2014080215586    2014-07-17 2014-06-30 18:38:00          MCO   \n",
       "2014010710583    2014-01-07 2013-12-27 22:00:00          SJU   \n",
       "2014010910683    2014-01-07 2014-01-02 00:00:00          IAD   \n",
       "2014011310783    2014-01-09 2014-01-07 00:00:00          SAT   \n",
       "\n",
       "                                   Airport Name          Airline Name  \\\n",
       "Claim Number                                                            \n",
       "2013081805991  Westchester County, White Plains               USAir     \n",
       "2014080215586     Orlando International Airport     Delta Air Lines     \n",
       "2014010710583    Luis Munoz Marin International              Jet Blue   \n",
       "2014010910683   Washington Dulles International                 UAL     \n",
       "2014011310783         San Antonio International  Southwest Airlines     \n",
       "\n",
       "                    Claim Type       Claim Site  \\\n",
       "Claim Number                                      \n",
       "2013081805991  Personal Injury  Checked Baggage   \n",
       "2014080215586  Property Damage  Checked Baggage   \n",
       "2014010710583  Property Damage  Checked Baggage   \n",
       "2014010910683  Property Damage  Checked Baggage   \n",
       "2014011310783  Property Damage  Checked Baggage   \n",
       "\n",
       "                                Item Category Close Amount      Disposition  \n",
       "Claim Number                                                                 \n",
       "2013081805991  Audio/Video; Jewelry & Watches            0             Deny  \n",
       "2014080215586                               -            0             Deny  \n",
       "2014010710583                    Food & Drink           50  Approve in Full  \n",
       "2014010910683            Baggage/Cases/Purses            0             Deny  \n",
       "2014011310783          Computer & Accessories            0             Deny  "
      ]
     },
     "execution_count": 7,
     "metadata": {},
     "output_type": "execute_result"
    }
   ],
   "source": [
    "df.head()"
   ]
  },
  {
   "cell_type": "code",
   "execution_count": 8,
   "metadata": {},
   "outputs": [
    {
     "name": "stdout",
     "output_type": "stream",
     "text": [
      "<class 'pandas.core.frame.DataFrame'>\n",
      "Int64Index: 8855 entries, 2013081805991 to 2015012220083\n",
      "Data columns (total 10 columns):\n",
      "Date Received    8855 non-null datetime64[ns]\n",
      "Incident Date    8855 non-null datetime64[ns]\n",
      "Airport Code     8855 non-null object\n",
      "Airport Name     8855 non-null object\n",
      "Airline Name     8855 non-null object\n",
      "Claim Type       8855 non-null object\n",
      "Claim Site       8855 non-null object\n",
      "Item Category    8855 non-null object\n",
      "Close Amount     8855 non-null object\n",
      "Disposition      8855 non-null object\n",
      "dtypes: datetime64[ns](2), object(8)\n",
      "memory usage: 761.0+ KB\n"
     ]
    }
   ],
   "source": [
    "df.info()"
   ]
  },
  {
   "cell_type": "code",
   "execution_count": 9,
   "metadata": {},
   "outputs": [
    {
     "data": {
      "text/plain": [
       "Index(['Date Received', 'Incident Date', 'Airport Code', 'Airport Name',\n",
       "       'Airline Name', 'Claim Type', 'Claim Site', 'Item Category',\n",
       "       'Close Amount', 'Disposition'],\n",
       "      dtype='object')"
      ]
     },
     "execution_count": 9,
     "metadata": {},
     "output_type": "execute_result"
    }
   ],
   "source": [
    "df.columns"
   ]
  },
  {
   "cell_type": "code",
   "execution_count": 13,
   "metadata": {},
   "outputs": [
    {
     "data": {
      "text/plain": [
       "Claim Number\n",
       "2013081805991    Personal Injury\n",
       "2014080215586    Property Damage\n",
       "2014010710583    Property Damage\n",
       "2014010910683    Property Damage\n",
       "2014011310783    Property Damage\n",
       "Name: Claim Type, dtype: object"
      ]
     },
     "execution_count": 13,
     "metadata": {},
     "output_type": "execute_result"
    }
   ],
   "source": [
    "df['Claim Type'].head()"
   ]
  },
  {
   "cell_type": "code",
   "execution_count": 17,
   "metadata": {},
   "outputs": [
    {
     "data": {
      "text/plain": [
       "Date Received    datetime64[ns]\n",
       "Incident Date    datetime64[ns]\n",
       "Airport Code             object\n",
       "Airport Name             object\n",
       "Airline Name             object\n",
       "Claim Type               object\n",
       "Claim Site               object\n",
       "Item Category            object\n",
       "Close Amount             object\n",
       "Disposition              object\n",
       "dtype: object"
      ]
     },
     "execution_count": 17,
     "metadata": {},
     "output_type": "execute_result"
    }
   ],
   "source": [
    "df.dtypes"
   ]
  },
  {
   "cell_type": "code",
   "execution_count": 19,
   "metadata": {},
   "outputs": [],
   "source": [
    "grp = df.groupby(by=df['Incident Date'].dt.hour)"
   ]
  },
  {
   "cell_type": "code",
   "execution_count": 24,
   "metadata": {},
   "outputs": [
    {
     "data": {
      "text/plain": [
       "Incident Date\n",
       "0     3421\n",
       "1        6\n",
       "2       11\n",
       "3        5\n",
       "4       49\n",
       "5      257\n",
       "6      357\n",
       "7      343\n",
       "8      299\n",
       "9      305\n",
       "10     349\n",
       "11     343\n",
       "12     363\n",
       "13     359\n",
       "14     386\n",
       "15     376\n",
       "16     351\n",
       "17     307\n",
       "18     289\n",
       "19     241\n",
       "20     163\n",
       "21     104\n",
       "22     106\n",
       "23      65\n",
       "Name: Item Category, dtype: int64"
      ]
     },
     "execution_count": 24,
     "metadata": {},
     "output_type": "execute_result"
    }
   ],
   "source": [
    "grp['Item Category'].count()"
   ]
  },
  {
   "cell_type": "code",
   "execution_count": 25,
   "metadata": {},
   "outputs": [
    {
     "data": {
      "text/plain": [
       "[<matplotlib.lines.Line2D at 0x1139c5518>]"
      ]
     },
     "execution_count": 25,
     "metadata": {},
     "output_type": "execute_result"
    },
    {
     "data": {
      "image/png": "[encoded data removed]",
      "text/plain": [
       "<Figure size 432x288 with 1 Axes>"
      ]
     },
     "metadata": {},
     "output_type": "display_data"
    }
   ],
   "source": [
    "x = grp['Item Category'].describe()\n"
   ]
  },
  {
   "cell_type": "code",
   "execution_count": 30,
   "metadata": {},
   "outputs": [
    {
     "data": {
      "text/plain": [
       "<matplotlib.axes._subplots.AxesSubplot at 0x113564dd8>"
      ]
     },
     "execution_count": 30,
     "metadata": {},
     "output_type": "execute_result"
    },
    {
     "data": {
      "image/png": "[encoded data removed]",
      "text/plain": [
       "<Figure size 432x288 with 1 Axes>"
      ]
     },
     "metadata": {},
     "output_type": "display_data"
    }
   ],
   "source": [
    "grp['Item Category'].count().plot.bar()"
   ]
  },
  {
   "cell_type": "code",
   "execution_count": 31,
   "metadata": {},
   "outputs": [
    {
     "data": {
      "text/plain": [
       "Claim Number\n",
       "2013081805991     0\n",
       "2014080215586     0\n",
       "2014010710583    50\n",
       "2014010910683     0\n",
       "2014011310783     0\n",
       "Name: Close Amount, dtype: object"
      ]
     },
     "execution_count": 31,
     "metadata": {},
     "output_type": "execute_result"
    }
   ],
   "source": [
    "df['Close Amount'].head()"
   ]
  },
  {
   "cell_type": "code",
   "execution_count": 32,
   "metadata": {},
   "outputs": [
    {
     "data": {
      "text/plain": [
       "Claim Number\n",
       "2015010219514      0\n",
       "2015010219516    800\n",
       "2015010219535      0\n",
       "2015010819728    256\n",
       "2015012220083      -\n",
       "Name: Close Amount, dtype: object"
      ]
     },
     "execution_count": 32,
     "metadata": {},
     "output_type": "execute_result"
    }
   ],
   "source": [
    "df['Close Amount'].tail()"
   ]
  },
  {
   "cell_type": "code",
   "execution_count": 36,
   "metadata": {},
   "outputs": [],
   "source": [
    "def dash_to_zero(x):\n",
    "    if '-' in str(x):\n",
    "        return float() #0.0\n",
    "    else:\n",
    "        return x"
   ]
  },
  {
   "cell_type": "code",
   "execution_count": 34,
   "metadata": {},
   "outputs": [
    {
     "data": {
      "text/plain": [
       "0.0"
      ]
     },
     "execution_count": 34,
     "metadata": {},
     "output_type": "execute_result"
    }
   ],
   "source": []
  },
  {
   "cell_type": "code",
   "execution_count": 40,
   "metadata": {},
   "outputs": [
    {
     "data": {
      "text/plain": [
       "dtype('float64')"
      ]
     },
     "execution_count": 40,
     "metadata": {},
     "output_type": "execute_result"
    }
   ],
   "source": [
    "df['Close Amount'] = df['Close Amount'].apply(dash_to_zero).tail()\n",
    "df['Close Amount'].dtype"
   ]
  },
  {
   "cell_type": "code",
   "execution_count": 41,
   "metadata": {},
   "outputs": [
    {
     "data": {
      "text/plain": [
       "dtype('float64')"
      ]
     },
     "execution_count": 41,
     "metadata": {},
     "output_type": "execute_result"
    }
   ],
   "source": [
    "df['Close Amount'].dtype"
   ]
  },
  {
   "cell_type": "code",
   "execution_count": 43,
   "metadata": {},
   "outputs": [
    {
     "data": {
      "text/plain": [
       "Claim Number\n",
       "2013081805991      NaN\n",
       "2014080215586      NaN\n",
       "2014010710583      NaN\n",
       "2014010910683      NaN\n",
       "2014011310783      NaN\n",
       "                 ...  \n",
       "2015010219514      0.0\n",
       "2015010219516    800.0\n",
       "2015010219535      0.0\n",
       "2015010819728    256.0\n",
       "2015012220083      0.0\n",
       "Name: Close Amount, Length: 8855, dtype: float64"
      ]
     },
     "execution_count": 43,
     "metadata": {},
     "output_type": "execute_result"
    }
   ],
   "source": [
    "df['Close Amount'].apply(lambda x: 0. if '-' in str(x) else x)"
   ]
  },
  {
   "cell_type": "code",
   "execution_count": 44,
   "metadata": {},
   "outputs": [
    {
     "data": {
      "text/plain": [
       "dtype('float64')"
      ]
     },
     "execution_count": 44,
     "metadata": {},
     "output_type": "execute_result"
    }
   ],
   "source": [
    "df['Close Amount'].dtype"
   ]
  },
  {
   "cell_type": "code",
   "execution_count": null,
   "metadata": {},
   "outputs": [],
   "source": []
  }
 ],
 "metadata": {
  "kernelspec": {
   "display_name": "Python 3",
   "language": "python",
   "name": "python3"
  },
  "language_info": {
   "codemirror_mode": {
    "name": "ipython",
    "version": 3
   },
   "file_extension": ".py",
   "mimetype": "text/x-python",
   "name": "python",
   "nbconvert_exporter": "python",
   "pygments_lexer": "ipython3",
   "version": "3.6.4rc1"
  }
 },
 "nbformat": 4,
 "nbformat_minor": 2
}
